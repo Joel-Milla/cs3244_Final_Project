{
 "cells": [
  {
   "cell_type": "code",
   "execution_count": 329,
   "metadata": {
    "ExecuteTime": {
     "end_time": "2025-04-17T07:14:16.119503Z",
     "start_time": "2025-04-17T07:14:16.105794Z"
    },
    "id": "Kc01yjoVo73C"
   },
   "outputs": [],
   "source": [
    "import pandas as pd\n",
    "import numpy as np\n",
    "import matplotlib.pyplot as plt\n",
    "import seaborn as sns\n",
    "from scipy import stats\n",
    "#to ignore warnings\n",
    "import warnings\n",
    "from sklearn.model_selection import train_test_split\n",
    "from sklearn.metrics import r2_score, mean_absolute_error, mean_squared_error\n",
    "warnings.filterwarnings('ignore')\n",
    "\n",
    "from sklearn.preprocessing import StandardScaler\n",
    "from sklearn.decomposition import PCA\n",
    "from sklearn.linear_model import LassoCV\n",
    "from sklearn.feature_selection import SelectFromModel\n",
    "from sklearn.linear_model import LinearRegression"
   ]
  },
  {
   "cell_type": "markdown",
   "metadata": {},
   "source": [
    "## Data Processing"
   ]
  },
  {
   "cell_type": "code",
   "execution_count": 330,
   "metadata": {
    "ExecuteTime": {
     "end_time": "2025-04-17T07:14:16.569466Z",
     "start_time": "2025-04-17T07:14:16.566529Z"
    },
    "id": "qTCUGtbvsaea"
   },
   "outputs": [],
   "source": [
    "\n",
    "data = pd.read_csv(\"Dataset/Training/Features_Variant_1.csv\")\n",
    "\n",
    "\n",
    "column_names_updated = [\n",
    "    \"Page_Popularity_Likes\", \"Page_Checkins\", \"Page_Talking_About\", \"Page_Category\",\n",
    "    \"Derived_1\", \"Derived_2\", \"Derived_3\", \"Derived_4\", \"Derived_5\",\n",
    "    \"Derived_6\", \"Derived_7\", \"Derived_8\", \"Derived_9\", \"Derived_10\",\n",
    "    \"Derived_11\", \"Derived_12\", \"Derived_13\", \"Derived_14\", \"Derived_15\",\n",
    "    \"Derived_16\", \"Derived_17\", \"Derived_18\", \"Derived_19\", \"Derived_20\",\n",
    "    \"Derived_21\", \"Derived_22\", \"Derived_23\", \"Derived_24\", \"Derived_25\",\n",
    "    \"CC1_Total_Comments\", \"CC2_Comments_Last_24h\", \"CC3_Comments_48_to_24h\",\n",
    "    \"CC4_Comments_First_24h\", \"CC5_CC2_CC3_Difference\", \"Base_Time\",\n",
    "    \"Post_Length\", \"Post_Share_Count\", \"Post_Promotion_Status\", \"H_Local\",\n",
    "    \"Published_Sunday\", \"Published_Monday\", \"Published_Tuesday\",\n",
    "    \"Published_Wednesday\", \"Published_Thursday\", \"Published_Friday\",\n",
    "    \"Published_Saturday\", \"BaseDate_Sunday\", \"BaseDate_Monday\",\n",
    "    \"BaseDate_Tuesday\", \"BaseDate_Wednesday\", \"BaseDate_Thursday\",\n",
    "    \"BaseDate_Friday\", \"BaseDate_Saturday\", \"Target_Comment_Volume\"\n",
    "]\n",
    "\n",
    "data.columns = column_names_updated\n",
    "\n",
    "category_mapping = {\n",
    "    1: \"Product/service\", 2: \"Public figure\", 3: \"Retail and consumer merchandise\",\n",
    "    4: \"Athlete\", 5: \"Education website\", 6: \"Arts/entertainment/nightlife\",\n",
    "    7: \"Aerospace/defense\", 8: \"Actor/director\", 9: \"Professional sports team\",\n",
    "    10: \"Travel/leisure\", 11: \"Arts/humanities website\", 12: \"Food/beverages\",\n",
    "    13: \"Record label\", 14: \"Movie\", 15: \"Song\", 16: \"Community\",\n",
    "    17: \"Company\", 18: \"Artist\", 19: \"Non-governmental organization (NGO)\",\n",
    "    20: \"Media/news/publishing\", 21: \"Cars\", 22: \"Clothing\", 23: \"Local business\",\n",
    "    24: \"Musician/band\", 25: \"Politician\", 26: \"News/media website\",\n",
    "    27: \"Education\", 28: \"Author\", 29: \"Sports event\", 30: \"Restaurant/cafe\",\n",
    "    31: \"School sports team\", 32: \"University\", 33: \"TV show\",\n",
    "    34: \"Website\", 35: \"Outdoor gear/sporting goods\", 36: \"Political party\",\n",
    "    37: \"Sports league\", 38: \"Entertainer\", 39: \"Church/religious organization\",\n",
    "    40: \"Non-profit organization\", 41: \"Automobiles and parts\", 42: \"TV channel\",\n",
    "    43: \"Telecommunication\", 44: \"Entertainment website\", 45: \"Shopping/retail\",\n",
    "    46: \"Personal blog\", 47: \"App page\", 48: \"Vitamins/supplements\",\n",
    "    49: \"Professional services\", 50: \"Movie theater\", 51: \"Software\",\n",
    "    52: \"Magazine\", 53: \"Electronics\", 54: \"School\", 55: \"Just for fun\",\n",
    "    56: \"Club\", 57: \"Comedian\", 58: \"Sports venue\", 59: \"Sports/recreation/activities\",\n",
    "    60: \"Publisher\", 61: \"TV network\", 62: \"Health/medical/pharmacy\",\n",
    "    63: \"Studio\", 64: \"Home decor\", 65: \"Jewelry/watches\", 66: \"Writer\",\n",
    "    67: \"Health/beauty\", 68: \"Music video\", 69: \"Appliances\", 70: \"Computers/technology\",\n",
    "    71: \"Insurance company\", 72: \"Music award\", 73: \"Recreation/sports website\",\n",
    "    74: \"Reference website\", 75: \"Business/economy website\", 76: \"Bar\",\n",
    "    77: \"Album\", 78: \"Games/toys\", 79: \"Camera/photo\", 80: \"Book\",\n",
    "    81: \"Producer\", 82: \"Landmark\", 83: \"Cause\", 84: \"Organization\",\n",
    "    85: \"TV/movie award\", 86: \"Hotel\", 87: \"Health/medical/pharmaceuticals\",\n",
    "    88: \"Transportation\", 89: \"Local/travel website\", 90: \"Musical instrument\",\n",
    "    91: \"Radio station\", 92: \"Other\", 93: \"Computers\", 94: \"Phone/tablet\",\n",
    "    95: \"Coach\", 96: \"Tools/equipment\", 97: \"Internet/software\",\n",
    "    98: \"Bank/financial institution\", 99: \"Society/culture website\",\n",
    "    100: \"Small business\", 101: \"News personality\", 102: \"Teens/kids website\",\n",
    "    103: \"Government official\", 104: \"Photographer\", 105: \"Spas/beauty/personal care\",\n",
    "    106: \"Video game\"\n",
    "}\n",
    "\n",
    "data[\"Page_Category\"] = data[\"Page_Category\"].map(category_mapping)\n",
    "data['Post_Promotion_Status'] = data['Post_Promotion_Status'].replace({0: 'No', 1: 'Yes'})\n",
    "\n",
    "published_day_mapping = {\n",
    "    \"Published_Sunday\": \"Sunday\",\n",
    "    \"Published_Monday\": \"Monday\",\n",
    "    \"Published_Tuesday\": \"Tuesday\",\n",
    "    \"Published_Wednesday\": \"Wednesday\",\n",
    "    \"Published_Thursday\": \"Thursday\",\n",
    "    \"Published_Friday\": \"Friday\",\n",
    "    \"Published_Saturday\": \"Saturday\"\n",
    "}\n",
    "\n",
    "basedate_day_mapping = {\n",
    "    \"BaseDate_Sunday\": \"Sunday\",\n",
    "    \"BaseDate_Monday\": \"Monday\",\n",
    "    \"BaseDate_Tuesday\": \"Tuesday\",\n",
    "    \"BaseDate_Wednesday\": \"Wednesday\",\n",
    "    \"BaseDate_Thursday\": \"Thursday\",\n",
    "    \"BaseDate_Friday\": \"Friday\",\n",
    "    \"BaseDate_Saturday\": \"Saturday\"\n",
    "}\n",
    "\n",
    "data['Published_Day'] = data[[*published_day_mapping.keys()]].idxmax(axis=1).map(published_day_mapping)\n",
    "data['BaseDate_Day'] = data[[*basedate_day_mapping.keys()]].idxmax(axis=1).map(basedate_day_mapping)\n",
    "data.drop(columns=list(published_day_mapping.keys()) + list(basedate_day_mapping.keys()), inplace=True)\n",
    "train_df = data\n"
   ]
  },
  {
   "cell_type": "markdown",
   "metadata": {},
   "source": [
    "## Feature Engineering"
   ]
  },
  {
   "cell_type": "markdown",
   "metadata": {},
   "source": [
    "### Target Normalization: Comments per Hour\n",
    "\n",
    "To make the target variable comparable across different time windows, we normalize the total comment volume by the prediction horizon `H_Local`, resulting in a consistent **comments per hour** metric.\n",
    "\n",
    "Our data analysis revealed that the raw target volume is heavily influenced by the length of the time window used to record comments. Longer windows naturally lead to higher comment counts, which introduces bias and makes comparisons across samples unreliable.\n",
    "\n",
    "By normalizing the target, we remove this dependency on window length. This allows the model to learn more generalizable engagement patterns, improving both training stability and prediction accuracy.\n"
   ]
  },
  {
   "cell_type": "markdown",
   "metadata": {},
   "source": [
    "Now we split our dataset, to ensure feat engeneering is only calculated based on values of our train dataset."
   ]
  },
  {
   "cell_type": "code",
   "execution_count": 331,
   "metadata": {},
   "outputs": [],
   "source": [
    "\n",
    "train_df, test_df = train_test_split(\n",
    "    data, test_size=0.2, random_state=42\n",
    ")\n",
    "\n",
    "train_df_raw = train_df.copy()\n",
    "test_df_raw = test_df.copy()\n",
    "\n",
    "train_df['Hourly_Target_Volume'] = train_df['Target_Comment_Volume'] / train_df['H_Local']"
   ]
  },
  {
   "cell_type": "markdown",
   "metadata": {},
   "source": [
    "### Add Feature: Comment Section Turned Off\n",
    "\n",
    "A new binary feature is added to indicate whether the comment section is likely turned off.\n",
    "\n",
    "Our data analysis revealed that some posts—particularly from pages with high levels of engagement (e.g., many likes or page check-ins)—consistently had **no recorded comments**, despite being otherwise active. This pattern suggests that for certain posts, the **comment section may have been intentionally disabled**.\n",
    "\n",
    "To capture this, we define a heuristic:  \n",
    "If a post has a high number of shares (above the 25th percentile) but **zero tracked comments**, we flag it as having the comment section turned off.\n",
    "\n",
    "The 25th percentile threshold for shares is calculated from the **training dataset** and is applied consistently to both the training and test datasets to ensure alignment and prevent data leakage."
   ]
  },
  {
   "cell_type": "code",
   "execution_count": 332,
   "metadata": {
    "ExecuteTime": {
     "end_time": "2025-04-17T07:14:16.857185Z",
     "start_time": "2025-04-17T07:14:16.806179Z"
    }
   },
   "outputs": [],
   "source": [
    "share_thresh = np.percentile(train_df['Post_Share_Count'], 25)\n",
    "\n",
    "mask_time_enough = train_df['Base_Time'] >= 10\n",
    "mask_no_comments = train_df['CC1_Total_Comments'] == 0\n",
    "mask_high_share  = train_df['Post_Share_Count']      > share_thresh\n",
    "\n",
    "train_df['Comments_Section_Off'] = 0\n",
    "train_df.loc[\n",
    "    mask_time_enough & mask_no_comments & mask_high_share,\n",
    "    'Comments_Section_Off'\n",
    "] = 1\n",
    "\n",
    "# test\n",
    "mask_time_enough = test_df['Base_Time'] >= 10\n",
    "mask_no_comments = test_df['CC1_Total_Comments'] == 0\n",
    "mask_high_share  = test_df['Post_Share_Count']      > share_thresh\n",
    "\n",
    "test_df['Comments_Section_Off'] = 0\n",
    "test_df.loc[\n",
    "    mask_time_enough & mask_no_comments & mask_high_share,\n",
    "    'Comments_Section_Off'\n",
    "] = 1"
   ]
  },
  {
   "cell_type": "markdown",
   "metadata": {},
   "source": [
    "### Features: Hourly Rates for Past Comment Values\n",
    "\n",
    "From our data analysis, we observed that a maximum of **72 hours** of comment data was recorded per post. The actual number of recorded hours varies and is indicated by the `Base_Time` column.\n",
    "\n",
    "This variability introduces inconsistency in the CC1–CC4 features, which represent comment volumes over different historical windows:\n",
    "\n",
    "- **CC1_Total_Comments**: All past comments up to `Base_Time`\n",
    "- **CC2_Comments_Last_24h**: Comments from the last 24 hours\n",
    "- **CC3_Comments_48_to_24h**: Comments from 24–48 hours ago\n",
    "- **CC4_Comments_First_24h**: Comments from 48–72 hours ago\n",
    "\n",
    "If `Base_Time` is less than the time window a feature is supposed to represent, the value becomes **incomplete and misleading**.  \n",
    "For example:\n",
    "- If `Base_Time` = 24, then both \"first 24h\" and \"last 24h\" cover the same period.\n",
    "- If `Base_Time` = 5, then \"last 24h\" only includes 5 hours of data—not a full 24—making it incomparable to posts with a full 24-hour window.\n",
    "\n",
    "To correct for this and ensure consistency, we transform these absolute comment counts into **comments per hour**. This normalization adapts each value to the actual time window it covers, allowing for fair comparison across samples.\n",
    "\n",
    "We apply this logic to each CC feature by dividing by the effective number of hours available:\n",
    "- For CC1: divide by `Base_Time`\n",
    "- For CC2: divide by `min(24, Base_Time)`\n",
    "- For CC3: divide by `min(24, Base_Time - 24)`\n",
    "- For CC4: divide by `min(24, Base_Time - 48)`\n",
    "\n",
    "This approach creates four new features: `Hourly_Rate_CC1` to `Hourly_Rate_CC4`, each representing the **average comment rate per hour** for their respective time segments.\n"
   ]
  },
  {
   "cell_type": "code",
   "execution_count": 333,
   "metadata": {
    "ExecuteTime": {
     "end_time": "2025-04-17T07:14:16.909314Z",
     "start_time": "2025-04-17T07:14:16.901848Z"
    }
   },
   "outputs": [],
   "source": [
    "\n",
    "train_df['Hourly_Rate_CC1'] = (\n",
    "    train_df['CC1_Total_Comments']\n",
    "    / np.maximum(train_df['Base_Time'], 1)\n",
    ")\n",
    "test_df['Hourly_Rate_CC1'] = (\n",
    "    test_df['CC1_Total_Comments']\n",
    "    / np.maximum(test_df['Base_Time'], 1)\n",
    ")\n",
    "\n",
    "# CC2 (last 24h)\n",
    "train_df['Hourly_Rate_CC2'] = (\n",
    "    train_df['CC2_Comments_Last_24h']\n",
    "    / np.maximum(np.minimum(24, train_df['Base_Time']), 1)\n",
    ")\n",
    "test_df['Hourly_Rate_CC2'] = (\n",
    "    test_df['CC2_Comments_Last_24h']\n",
    "    / np.maximum(np.minimum(24, test_df['Base_Time']), 1)\n",
    ")\n",
    "\n",
    "# CC3 (24–48h)\n",
    "train_df['Hourly_Rate_CC3'] = (\n",
    "    train_df['CC3_Comments_48_to_24h']\n",
    "    / np.maximum(\n",
    "        np.minimum(24, train_df['Base_Time'] - 24),\n",
    "        1\n",
    "    )\n",
    ")\n",
    "test_df['Hourly_Rate_CC3'] = (\n",
    "    test_df['CC3_Comments_48_to_24h']\n",
    "    / np.maximum(\n",
    "        np.minimum(24, test_df['Base_Time'] - 24),\n",
    "        1\n",
    "    )\n",
    ")\n",
    "\n",
    "# CC4 (first 24h)\n",
    "train_df['Hourly_Rate_CC4'] = (\n",
    "    train_df['CC4_Comments_First_24h']\n",
    "    / np.maximum(\n",
    "        np.minimum(24, train_df['Base_Time'] - 48),\n",
    "        1\n",
    "    )\n",
    ")\n",
    "test_df['Hourly_Rate_CC4'] = (\n",
    "    test_df['CC4_Comments_First_24h']\n",
    "    / np.maximum(\n",
    "        np.minimum(24, test_df['Base_Time'] - 48),\n",
    "        1\n",
    "    )\n",
    ")\n"
   ]
  },
  {
   "cell_type": "markdown",
   "metadata": {},
   "source": [
    "### Feature: Category-Level Target Mean\n",
    "\n",
    "We create an aggregate feature by calculating the average hourly target volume per page category from the training data. This captures the typical engagement level associated with each `Page_Category`.\n",
    "\n",
    "Category_Target_Mean = average Hourly_Target_Volume per Page_Category\n",
    "\n",
    "This feature is then merged into both the training and test datasets, using only the mapping derived from the training data to avoid data leakage.\n",
    "\n",
    "**Why we added it:**  \n",
    "This provides the model with contextual information about the general comment activity expected from each category, helping it make more informed predictions based on historical group-level behavior.\n"
   ]
  },
  {
   "cell_type": "code",
   "execution_count": 334,
   "metadata": {
    "ExecuteTime": {
     "end_time": "2025-04-17T07:14:17.000095Z",
     "start_time": "2025-04-17T07:14:16.948255Z"
    }
   },
   "outputs": [],
   "source": [
    "\n",
    "cat_target = (\n",
    "    train_df\n",
    "    .groupby('Page_Category')['Hourly_Target_Volume']\n",
    "    .mean()\n",
    "    .reset_index()\n",
    "    .rename(columns={'Hourly_Target_Volume': 'Category_Target_Mean'})\n",
    ")\n",
    "train_df = train_df.merge(cat_target, on='Page_Category', how='left')\n",
    "\n",
    "# test: merge using train’s mapping\n",
    "test_df = test_df.merge(cat_target, on='Page_Category', how='left')"
   ]
  },
  {
   "cell_type": "markdown",
   "metadata": {},
   "source": [
    "### Feature: Binned Target Means for Continuous Page Attributes\n",
    "\n",
    "For each of the continuous page-level features:\n",
    "\n",
    "- `Page_Popularity_Likes`\n",
    "- `Page_Checkins`\n",
    "- `Page_Talking_About`\n",
    "\n",
    "we create new features that capture the **average target behavior across value ranges (bins)** of each variable.\n",
    "\n",
    "**How it works:**\n",
    "\n",
    "- In the training data, each feature is split into 30 quantile-based bins (`qcut`), ensuring balanced distribution.\n",
    "- For each bin, we calculate the average `Hourly_Target_Volume`.\n",
    "- This average is then mapped back as a new feature (e.g., `Page_Popularity_Likes_Bin_Target_Mean`), reflecting the typical engagement level for similar value ranges.\n",
    "- These bin definitions and mean values are stored and then applied to the test data using `pd.cut`, ensuring consistency and avoiding data leakage.\n",
    "\n",
    "**Why we added it:**\n",
    "\n",
    "This transformation allows the model to leverage **nonlinear relationships** between continuous features and the target variable, while preserving interpretability. It smooths out noise and helps the model focus on broader patterns within value ranges rather than overfitting to raw numeric scales.\n"
   ]
  },
  {
   "cell_type": "code",
   "execution_count": 335,
   "metadata": {
    "ExecuteTime": {
     "end_time": "2025-04-17T07:14:17.178340Z",
     "start_time": "2025-04-17T07:14:17.011268Z"
    }
   },
   "outputs": [],
   "source": [
    "\n",
    "cont_feats = ['Page_Popularity_Likes', 'Page_Checkins', 'Page_Talking_About']\n",
    "bin_edges = {}\n",
    "bin_means = {}\n",
    "\n",
    "for feat in cont_feats:\n",
    "    bin_col   = feat + '_bin'\n",
    "    mean_col  = feat + '_Bin_Target_Mean'\n",
    "\n",
    "    # --- train: q‐cut, mean, map, save edges/measures, drop bin col\n",
    "    train_df[bin_col] = pd.qcut(\n",
    "        train_df[feat], q=30, duplicates='drop'\n",
    "    )\n",
    "    bmean = train_df.groupby(bin_col)['Hourly_Target_Volume'].mean()\n",
    "    train_df[mean_col] = train_df[bin_col].map(bmean)\n",
    "    bin_edges[feat] = train_df[bin_col].cat.categories\n",
    "    bin_means[feat] = bmean\n",
    "    train_df.drop(columns=[bin_col], inplace=True)\n",
    "\n",
    "    # --- test: cut on train’s edges, map train’s means, drop bin col\n",
    "    test_df[bin_col] = pd.cut(\n",
    "        test_df[feat],\n",
    "        bins=bin_edges[feat]\n",
    "    )\n",
    "    test_df[mean_col] = test_df[bin_col].map(bin_means[feat])\n",
    "    test_df.drop(columns=[bin_col], inplace=True)"
   ]
  },
  {
   "cell_type": "markdown",
   "metadata": {},
   "source": [
    "### Feature: Ratio of Past to Future Comment Rate (Aggregate-Based)\n",
    "\n",
    "This feature represents the average ratio between a post’s recent past comment rate (last 24 hours) and its future comment rate. It is calculated by first computing individual future-to-past ratios in the training set, then averaging these within 100 quantile bins based on `Hourly_Rate_CC2` (comments per hour in the last 24h).\n",
    "\n",
    "**Why we use bins:**  \n",
    "Since we cannot use target values in the test dataset, we use the binned past activity (`Hourly_Rate_CC2`) to assign an average future-to-past ratio learned from the training data. This allows us to estimate future engagement in the test set using only features available at prediction time.\n",
    "\n",
    "**Why it’s important:**  \n",
    "It captures how typical it is for posts with a certain level of recent activity to continue receiving comments. This helps the model better estimate future comment volume based on historical engagement dynamics.\n"
   ]
  },
  {
   "cell_type": "code",
   "execution_count": 336,
   "metadata": {
    "ExecuteTime": {
     "end_time": "2025-04-17T07:14:17.288731Z",
     "start_time": "2025-04-17T07:14:17.200010Z"
    }
   },
   "outputs": [],
   "source": [
    "future_rate = train_df['Target_Comment_Volume'] / train_df['H_Local']\n",
    "past_rate   = train_df['Hourly_Rate_CC2']\n",
    "\n",
    "# 2) individual ratio = future_rate / past_rate, but zero if past_rate==0\n",
    "train_df['Ratio_Indiv'] = np.where(\n",
    "    past_rate == 0,\n",
    "    0,\n",
    "    future_rate / past_rate\n",
    ")\n",
    "\n",
    "# 3) exclude “off” rows from aggregation\n",
    "train_df.loc[train_df['Comments_Section_Off'] == 1, 'Ratio_Indiv'] = np.nan\n",
    "\n",
    "# 4) create 10 quantile bins on Hourly_Rate_CC2 (train only)\n",
    "train_df['CC2_ratio_bin'] = pd.qcut(\n",
    "    train_df['Hourly_Rate_CC2'],\n",
    "    q=100,\n",
    "    duplicates='drop'\n",
    ")\n",
    "\n",
    "# 5) compute mean ratio per CC2 bin (NaNs ignored)\n",
    "ratio_group = (\n",
    "    train_df\n",
    "    .groupby('CC2_ratio_bin')['Ratio_Indiv']\n",
    "    .mean()\n",
    "    .reset_index()\n",
    "    .rename(columns={'Ratio_Indiv': 'Ratio_Agg_Past24h_vs_Future'})\n",
    ")\n",
    "\n",
    "# 6) merge aggregate back onto train and zero‑out “off” rows\n",
    "train_df = train_df.merge(ratio_group, on='CC2_ratio_bin', how='left')\n",
    "train_df.loc[train_df['Comments_Section_Off'] == 1, 'Ratio_Agg_Past24h_vs_Future'] = 0\n",
    "\n",
    "# 7) save the bin edges & clean up\n",
    "ratio_bins = train_df['CC2_ratio_bin'].cat.categories\n",
    "train_df.drop(columns=['Ratio_Indiv', 'CC2_ratio_bin'], inplace=True)\n",
    "\n",
    "\n",
    "# --- TEST: apply train‑derived aggregates ---\n",
    "# 1) bin test rows using train’s CC2 edges\n",
    "test_df['CC2_ratio_bin'] = pd.cut(\n",
    "    test_df['Hourly_Rate_CC2'],\n",
    "    bins=ratio_bins\n",
    ")\n",
    "\n",
    "# 2) merge the train‑computed aggregates\n",
    "test_df = test_df.merge(ratio_group, on='CC2_ratio_bin', how='left')\n",
    "\n",
    "# 3) fill missing & zero‑out “off” rows\n",
    "test_df['Ratio_Agg_Past24h_vs_Future'] = test_df['Ratio_Agg_Past24h_vs_Future'].fillna(0)\n",
    "test_df.loc[test_df['Comments_Section_Off'] == 1, 'Ratio_Agg_Past24h_vs_Future'] = 0\n",
    "\n",
    "# 4) clean up\n",
    "test_df.drop(columns=['CC2_ratio_bin'], inplace=True)"
   ]
  },
  {
   "cell_type": "code",
   "execution_count": 337,
   "metadata": {},
   "outputs": [],
   "source": [
    "# Save features\n",
    "train_df = train_df.drop(['Hourly_Target_Volume'], axis=1)\n",
    "\n"
   ]
  },
  {
   "cell_type": "code",
   "execution_count": 338,
   "metadata": {
    "ExecuteTime": {
     "end_time": "2025-04-17T07:14:17.329486Z",
     "start_time": "2025-04-17T07:14:17.310691Z"
    }
   },
   "outputs": [],
   "source": [
    "cat_cols = [\"Page_Category\", \"Post_Promotion_Status\", \"Published_Day\", \"BaseDate_Day\"]\n",
    "\n",
    "# 1) One-hot encode the full dataframes (train, test, and raw splits)\n",
    "train_enc      = pd.get_dummies(train_df,     columns=cat_cols, drop_first=True)\n",
    "test_enc       = pd.get_dummies(test_df,      columns=cat_cols, drop_first=True)\n",
    "train_raw_enc  = pd.get_dummies(train_df_raw, columns=cat_cols, drop_first=True)\n",
    "test_raw_enc   = pd.get_dummies(test_df_raw,  columns=cat_cols, drop_first=True)\n",
    "\n",
    "# Ensure test splits have the same columns as their corresponding train splits\n",
    "test_enc      = test_enc.reindex(columns=train_enc.columns,     fill_value=0)\n",
    "test_raw_enc  = test_raw_enc.reindex(columns=train_raw_enc.columns, fill_value=0)\n",
    "\n",
    "# 2) Split into features (X) and target (y)\n",
    "X_train      = train_enc.drop(columns='Target_Comment_Volume')\n",
    "y_train      = train_enc['Target_Comment_Volume']\n",
    "\n",
    "X_test       = test_enc.drop(columns='Target_Comment_Volume')\n",
    "y_test       = test_enc['Target_Comment_Volume']\n",
    "\n",
    "X_train_raw  = train_raw_enc.drop(columns='Target_Comment_Volume')\n",
    "y_train_raw  = train_raw_enc['Target_Comment_Volume']\n",
    "\n",
    "X_test_raw   = test_raw_enc.drop(columns='Target_Comment_Volume')\n",
    "y_test_raw   = test_raw_enc['Target_Comment_Volume']\n"
   ]
  },
  {
   "cell_type": "code",
   "execution_count": 339,
   "metadata": {},
   "outputs": [],
   "source": [
    "train_enc.to_csv(\"train_df.csv\", index=False)\n",
    "test_enc.to_csv(\"test_df.csv\", index=False)"
   ]
  },
  {
   "cell_type": "markdown",
   "metadata": {},
   "source": [
    "### Simple Baseline Model: Scaled Past Rate with Learned Ratio\n",
    "\n",
    "This baseline model predicts the future number of comments using a simple, interpretable formula:\n",
    "\n",
    "**Prediction = Past Hourly Rate × Future Time Window × Learned Ratio**\n",
    "\n",
    "Specifically, it multiplies:\n",
    "- `Hourly_Rate_CC2`: the recent comment rate (last 24 hours),\n",
    "- `H_Local`: the number of future hours to predict,\n",
    "- `Ratio_Agg_Past24h_vs_Future`: a learned adjustment factor that reflects how recent activity typically translates into future engagement.\n",
    "\n",
    "**Why this works:**  \n",
    "This model leverages recent comment trends and adjusts them based on historical behavior patterns learned from the training data. It's a lightweight, explainable benchmark that gives a solid starting point for evaluating more complex models."
   ]
  },
  {
   "cell_type": "code",
   "execution_count": 340,
   "metadata": {
    "ExecuteTime": {
     "end_time": "2025-04-17T07:14:17.355934Z",
     "start_time": "2025-04-17T07:14:17.352216Z"
    }
   },
   "outputs": [
    {
     "name": "stdout",
     "output_type": "stream",
     "text": [
      "Mean Absolute Error (MAE): 4.45\n",
      "Mean Squared Error (MSE): 630.75\n"
     ]
    }
   ],
   "source": [
    "def simple_predict(df):\n",
    "    return df['Hourly_Rate_CC2'] * df['H_Local'] * df['Ratio_Agg_Past24h_vs_Future']\n",
    "\n",
    "y_pred = simple_predict(X_test)\n",
    "\n",
    "# 2. Evaluation metrics\n",
    "mae = mean_absolute_error(y_test, y_pred)\n",
    "mse = mean_squared_error(y_test, y_pred)\n",
    "\n",
    "# 3. Print results\n",
    "print(f\"Mean Absolute Error (MAE): {mae:.2f}\")\n",
    "print(f\"Mean Squared Error (MSE): {mse:.2f}\")"
   ]
  },
  {
   "cell_type": "code",
   "execution_count": 341,
   "metadata": {
    "ExecuteTime": {
     "end_time": "2025-04-17T07:14:17.630202Z",
     "start_time": "2025-04-17T07:14:17.376608Z"
    }
   },
   "outputs": [
    {
     "name": "stdout",
     "output_type": "stream",
     "text": [
      "                                       Target_Comment_Volume  \\\n",
      "Target_Comment_Volume                               1.000000   \n",
      "Comments_Section_Off                               -0.038798   \n",
      "Hourly_Rate_CC1                                     0.724554   \n",
      "Hourly_Rate_CC2                                     0.729268   \n",
      "Hourly_Rate_CC3                                     0.085404   \n",
      "Hourly_Rate_CC4                                     0.409975   \n",
      "Category_Target_Mean                                0.148623   \n",
      "Page_Popularity_Likes_Bin_Target_Mean               0.198013   \n",
      "Page_Checkins_Bin_Target_Mean                       0.043958   \n",
      "Page_Talking_About_Bin_Target_Mean                  0.249198   \n",
      "Ratio_Agg_Past24h_vs_Future                         0.007892   \n",
      "\n",
      "                                       Comments_Section_Off  Hourly_Rate_CC1  \\\n",
      "Target_Comment_Volume                             -0.038798         0.724554   \n",
      "Comments_Section_Off                               1.000000        -0.051747   \n",
      "Hourly_Rate_CC1                                   -0.051747         1.000000   \n",
      "Hourly_Rate_CC2                                   -0.040598         0.982309   \n",
      "Hourly_Rate_CC3                                   -0.037853         0.175018   \n",
      "Hourly_Rate_CC4                                   -0.067942         0.568760   \n",
      "Category_Target_Mean                              -0.136356         0.187622   \n",
      "Page_Popularity_Likes_Bin_Target_Mean             -0.081689         0.245746   \n",
      "Page_Checkins_Bin_Target_Mean                     -0.043645         0.065078   \n",
      "Page_Talking_About_Bin_Target_Mean                -0.107018         0.306901   \n",
      "Ratio_Agg_Past24h_vs_Future                       -0.342480         0.054297   \n",
      "\n",
      "                                       Hourly_Rate_CC2  Hourly_Rate_CC3  \\\n",
      "Target_Comment_Volume                         0.729268         0.085404   \n",
      "Comments_Section_Off                         -0.040598        -0.037853   \n",
      "Hourly_Rate_CC1                               0.982309         0.175018   \n",
      "Hourly_Rate_CC2                               1.000000         0.059532   \n",
      "Hourly_Rate_CC3                               0.059532         1.000000   \n",
      "Hourly_Rate_CC4                               0.465386         0.568636   \n",
      "Category_Target_Mean                          0.149598         0.126991   \n",
      "Page_Popularity_Likes_Bin_Target_Mean         0.195595         0.172001   \n",
      "Page_Checkins_Bin_Target_Mean                 0.049701         0.052269   \n",
      "Page_Talking_About_Bin_Target_Mean            0.245637         0.213312   \n",
      "Ratio_Agg_Past24h_vs_Future                   0.024975         0.083281   \n",
      "\n",
      "                                       Hourly_Rate_CC4  Category_Target_Mean  \\\n",
      "Target_Comment_Volume                         0.409975              0.148623   \n",
      "Comments_Section_Off                         -0.067942             -0.136356   \n",
      "Hourly_Rate_CC1                               0.568760              0.187622   \n",
      "Hourly_Rate_CC2                               0.465386              0.149598   \n",
      "Hourly_Rate_CC3                               0.568636              0.126991   \n",
      "Hourly_Rate_CC4                               1.000000              0.240627   \n",
      "Category_Target_Mean                          0.240627              1.000000   \n",
      "Page_Popularity_Likes_Bin_Target_Mean         0.322753              0.411658   \n",
      "Page_Checkins_Bin_Target_Mean                 0.085123              0.125836   \n",
      "Page_Talking_About_Bin_Target_Mean            0.399953              0.480132   \n",
      "Ratio_Agg_Past24h_vs_Future                   0.114421              0.214149   \n",
      "\n",
      "                                       Page_Popularity_Likes_Bin_Target_Mean  \\\n",
      "Target_Comment_Volume                                               0.198013   \n",
      "Comments_Section_Off                                               -0.081689   \n",
      "Hourly_Rate_CC1                                                     0.245746   \n",
      "Hourly_Rate_CC2                                                     0.195595   \n",
      "Hourly_Rate_CC3                                                     0.172001   \n",
      "Hourly_Rate_CC4                                                     0.322753   \n",
      "Category_Target_Mean                                                0.411658   \n",
      "Page_Popularity_Likes_Bin_Target_Mean                               1.000000   \n",
      "Page_Checkins_Bin_Target_Mean                                       0.113310   \n",
      "Page_Talking_About_Bin_Target_Mean                                  0.699267   \n",
      "Ratio_Agg_Past24h_vs_Future                                         0.198661   \n",
      "\n",
      "                                       Page_Checkins_Bin_Target_Mean  \\\n",
      "Target_Comment_Volume                                       0.043958   \n",
      "Comments_Section_Off                                       -0.043645   \n",
      "Hourly_Rate_CC1                                             0.065078   \n",
      "Hourly_Rate_CC2                                             0.049701   \n",
      "Hourly_Rate_CC3                                             0.052269   \n",
      "Hourly_Rate_CC4                                             0.085123   \n",
      "Category_Target_Mean                                        0.125836   \n",
      "Page_Popularity_Likes_Bin_Target_Mean                       0.113310   \n",
      "Page_Checkins_Bin_Target_Mean                               1.000000   \n",
      "Page_Talking_About_Bin_Target_Mean                          0.208085   \n",
      "Ratio_Agg_Past24h_vs_Future                                 0.062709   \n",
      "\n",
      "                                       Page_Talking_About_Bin_Target_Mean  \\\n",
      "Target_Comment_Volume                                            0.249198   \n",
      "Comments_Section_Off                                            -0.107018   \n",
      "Hourly_Rate_CC1                                                  0.306901   \n",
      "Hourly_Rate_CC2                                                  0.245637   \n",
      "Hourly_Rate_CC3                                                  0.213312   \n",
      "Hourly_Rate_CC4                                                  0.399953   \n",
      "Category_Target_Mean                                             0.480132   \n",
      "Page_Popularity_Likes_Bin_Target_Mean                            0.699267   \n",
      "Page_Checkins_Bin_Target_Mean                                    0.208085   \n",
      "Page_Talking_About_Bin_Target_Mean                               1.000000   \n",
      "Ratio_Agg_Past24h_vs_Future                                      0.214915   \n",
      "\n",
      "                                       Ratio_Agg_Past24h_vs_Future  \n",
      "Target_Comment_Volume                                     0.007892  \n",
      "Comments_Section_Off                                     -0.342480  \n",
      "Hourly_Rate_CC1                                           0.054297  \n",
      "Hourly_Rate_CC2                                           0.024975  \n",
      "Hourly_Rate_CC3                                           0.083281  \n",
      "Hourly_Rate_CC4                                           0.114421  \n",
      "Category_Target_Mean                                      0.214149  \n",
      "Page_Popularity_Likes_Bin_Target_Mean                     0.198661  \n",
      "Page_Checkins_Bin_Target_Mean                             0.062709  \n",
      "Page_Talking_About_Bin_Target_Mean                        0.214915  \n",
      "Ratio_Agg_Past24h_vs_Future                               1.000000  \n"
     ]
    },
    {
     "data": {
      "image/png": "[encoded data removed]",
      "text/plain": [
       "<Figure size 1000x800 with 2 Axes>"
      ]
     },
     "metadata": {},
     "output_type": "display_data"
    }
   ],
   "source": [
    "\n",
    "# 2) Select the newly added features + targets\n",
    "corr_cols = [\n",
    "    'Target_Comment_Volume',\n",
    "    'Comments_Section_Off',\n",
    "    'Hourly_Rate_CC1',\n",
    "    'Hourly_Rate_CC2',\n",
    "    'Hourly_Rate_CC3',\n",
    "    'Hourly_Rate_CC4',\n",
    "    'Category_Target_Mean',\n",
    "    'Page_Popularity_Likes_Bin_Target_Mean',\n",
    "    'Page_Checkins_Bin_Target_Mean',\n",
    "    'Page_Talking_About_Bin_Target_Mean',\n",
    "    'Ratio_Agg_Past24h_vs_Future'\n",
    "]\n",
    "\n",
    "# 3) Compute correlation matrix\n",
    "corr_matrix = train_df[corr_cols].corr()\n",
    "\n",
    "# 4) Print and plot\n",
    "print(corr_matrix)\n",
    "\n",
    "plt.figure(figsize=(10, 8))\n",
    "sns.heatmap(corr_matrix, annot=True, fmt=\".2f\", cmap='coolwarm', square=True)\n",
    "plt.title(\"Correlation Matrix: Targets vs. Engineered Features\")\n",
    "plt.tight_layout()\n",
    "plt.show()"
   ]
  },
  {
   "cell_type": "markdown",
   "metadata": {},
   "source": [
    "Now we want to conduct first tests, to see if our features have a positive impact on model. Therefore we train a simple model on the raw data, and the data extended with out features."
   ]
  },
  {
   "cell_type": "markdown",
   "metadata": {},
   "source": [
    "Save dataset with features to csv, so it can be used for model training"
   ]
  },
  {
   "cell_type": "code",
   "execution_count": 342,
   "metadata": {},
   "outputs": [
    {
     "name": "stdout",
     "output_type": "stream",
     "text": [
      "Decision Tree on Raw Original Data\n",
      "  MAE: 5.25\n",
      "  MSE: 826.61\n",
      "Linear Regression on Raw Original Data\n",
      "  MAE: 8.14\n",
      "  MSE: 714.43\n"
     ]
    }
   ],
   "source": [
    "from sklearn.tree import DecisionTreeRegressor\n",
    "\n",
    "dt_raw = DecisionTreeRegressor(random_state=42)\n",
    "dt_raw.fit(X_train_raw, y_train_raw)\n",
    "\n",
    "# 5) Predict & evaluate\n",
    "y_pred_raw = dt_raw.predict(X_test_raw)\n",
    "mae = mean_absolute_error(y_test_raw, y_pred_raw)\n",
    "mse = mean_squared_error(y_test_raw, y_pred_raw)\n",
    "\n",
    "print(\"Decision Tree on Raw Original Data\")\n",
    "print(f\"  MAE: {mae:.2f}\")\n",
    "print(f\"  MSE: {mse:.2f}\")\n",
    "\n",
    "lr_raw = LinearRegression()\n",
    "lr_raw.fit(X_train_raw, y_train_raw)\n",
    "\n",
    "# Predict and evaluate\n",
    "y_pred_lr = lr_raw.predict(X_test_raw)\n",
    "mae_lr = mean_absolute_error(y_test_raw, y_pred_lr)\n",
    "mse_lr = mean_squared_error(y_test_raw, y_pred_lr)\n",
    "\n",
    "print(\"Linear Regression on Raw Original Data\")\n",
    "print(f\"  MAE: {mae_lr:.2f}\")\n",
    "print(f\"  MSE: {mse_lr:.2f}\")"
   ]
  },
  {
   "cell_type": "markdown",
   "metadata": {},
   "source": [
    "The prediction results are significantly better with our newly constructed features: Especially the MSE dropped, meaning there are less \"very off\" predictions"
   ]
  },
  {
   "cell_type": "code",
   "execution_count": 343,
   "metadata": {},
   "outputs": [
    {
     "name": "stdout",
     "output_type": "stream",
     "text": [
      "Decision Tree on Data with new Features\n",
      "  MAE: 4.72\n",
      "  MSE: 627.12\n",
      "  R²:  0.40\n",
      "\n",
      "Linear Regression on Data with new Features\n",
      "  MAE: 5.77\n",
      "  MSE: 489.80\n",
      "  R²:  0.53\n"
     ]
    }
   ],
   "source": [
    "dt_orig = DecisionTreeRegressor(random_state=42)\n",
    "dt_orig.fit(X_train, y_train)\n",
    "y_pred_orig = dt_orig.predict(X_test)\n",
    "\n",
    "mae_orig = mean_absolute_error(y_test, y_pred_orig)\n",
    "mse_orig = mean_squared_error(y_test, y_pred_orig)\n",
    "r2_orig = r2_score(y_test, y_pred_orig)\n",
    "\n",
    "print(\"Decision Tree on Data with new Features\")\n",
    "print(f\"  MAE: {mae_orig:.2f}\")\n",
    "print(f\"  MSE: {mse_orig:.2f}\")\n",
    "print(f\"  R²:  {r2_orig:.2f}\\n\")\n",
    "\n",
    "# Linear Regression on original features\n",
    "lr_raw = LinearRegression()\n",
    "lr_raw.fit(X_train, y_train)\n",
    "\n",
    "y_pred_lr = lr_raw.predict(X_test)\n",
    "mae_lr = mean_absolute_error(y_test, y_pred_lr)\n",
    "mse_lr = mean_squared_error(y_test, y_pred_lr)\n",
    "r2_lr = r2_score(y_test, y_pred_lr)\n",
    "\n",
    "print(\"Linear Regression on Data with new Features\")\n",
    "print(f\"  MAE: {mae_lr:.2f}\")\n",
    "print(f\"  MSE: {mse_lr:.2f}\")\n",
    "print(f\"  R²:  {r2_lr:.2f}\")"
   ]
  },
  {
   "cell_type": "markdown",
   "metadata": {},
   "source": [
    "\n",
    "## Exemplary Feature Selection:\n"
   ]
  },
  {
   "cell_type": "markdown",
   "metadata": {},
   "source": [
    "### Feature Selection with RFECV and Model Evaluation\n",
    "\n",
    "This process uses **Recursive Feature Elimination with Cross-Validation (RFECV)** to identify the most relevant features for predicting comment volume.\n",
    "\n",
    "- A **Linear Regression** model is used to rank features based on importance.\n",
    "- Features are removed one at a time, and 5-fold cross-validation is used to evaluate performance (MSE).\n",
    "- The optimal number of features is selected by minimizing validation error.\n",
    "\n",
    "After selecting the best subset of features, two models — **Linear Regression** and **Decision Tree Regressor** — are trained and evaluated on the reduced feature set using MAE and MSE.\n",
    "\n",
    "This helps identify a compact, high-performing feature set and compare model performance on it.\n"
   ]
  },
  {
   "cell_type": "code",
   "execution_count": 344,
   "metadata": {},
   "outputs": [],
   "source": [
    "# from sklearn.feature_selection import RFECV\n",
    "# from sklearn.linear_model import LinearRegression\n",
    "# from sklearn.tree import DecisionTreeRegressor\n",
    "# from sklearn.metrics import mean_absolute_error, mean_squared_error\n",
    "# import matplotlib.pyplot as plt\n",
    "\n",
    "# # Base estimator for ranking\n",
    "# est = LinearRegression()\n",
    "\n",
    "# # RFECV: step=1 removes one feature at a time, cv=5 folds\n",
    "# rfecv = RFECV(\n",
    "#     estimator=est,\n",
    "#     step=1,\n",
    "#     cv=5,\n",
    "#     scoring='neg_mean_squared_error',\n",
    "#     min_features_to_select=1,\n",
    "#     n_jobs=-1\n",
    "# )\n",
    "# rfecv.fit(X_train, y_train)\n",
    "\n",
    "# opt_n = rfecv.n_features_\n",
    "# print(\"Optimal feature count:\", opt_n)\n",
    "# selected = X_train.columns[rfecv.support_]\n",
    "# print(\"Selected features:\", list(selected))\n",
    "\n",
    "# # Extract the CV‐fold MSE for each number of features\n",
    "# # Note: mean_test_score is negative MSE (because scoring='neg_mean_squared_error')\n",
    "# mse_scores = -rfecv.cv_results_['mean_test_score']\n",
    "\n",
    "# # Plot MSE vs. #features\n",
    "# plt.figure(figsize=(6,4))\n",
    "# plt.plot(\n",
    "#     np.arange(1, len(mse_scores) + 1),\n",
    "#     mse_scores,\n",
    "#     marker='o'\n",
    "# )\n",
    "# plt.xlabel(\"Number of features selected\")\n",
    "# plt.ylabel(\"CV MSE\")\n",
    "# plt.title(\"RFECV — CV MSE vs. #features\")\n",
    "# plt.tight_layout()\n",
    "# plt.show()\n",
    "\n",
    "# # And then re‐fit on the selected subset\n",
    "# X_tr_rfecv = rfecv.transform(X_train)\n",
    "# X_te_rfecv = rfecv.transform(X_test)\n",
    "\n",
    "# for Model in (LinearRegression, DecisionTreeRegressor):\n",
    "#     m = Model().fit(X_tr_rfecv, y_train)\n",
    "#     pred = m.predict(X_te_rfecv)\n",
    "#     mae = mean_absolute_error(y_test, pred)\n",
    "#     mse = mean_squared_error(y_test, pred)\n",
    "#     r2 = r2_score(y_test, pred)\n",
    "#     print(f\"{Model.__name__} on RFECV features — MAE: {mae:.2f}, MSE: {mse:.2f}, R²: {r2:.2f}\")"
   ]
  },
  {
   "cell_type": "markdown",
   "metadata": {},
   "source": [
    "### Feature Selection with Sequential Floating Forward Selection (SFS)\n",
    "\n",
    "This approach uses **Sequential Floating Forward Selection (SFS)** to automatically identify the best subset of features for predicting comment volume.\n",
    "\n",
    "- A **Linear Regression** model is used as the base estimator.\n",
    "- Features are added iteratively in a forward fashion, with the option to remove previously added features if they become less useful (floating).\n",
    "- The number of features is determined automatically by optimizing cross-validated performance (MSE).\n",
    "\n",
    "After selecting the optimal features, both **Linear Regression** and **Decision Tree Regressor** models are trained and evaluated on the reduced feature set using MAE and MSE.\n",
    "\n",
    "This method offers a more flexible and potentially more accurate alternative to standard forward selection.\n",
    "\n",
    "Due to resource constaints, the categorical featuers are dropped for this"
   ]
  },
  {
   "cell_type": "code",
   "execution_count": 345,
   "metadata": {},
   "outputs": [],
   "source": [
    "# # pip install mlxtend\n",
    "# from mlxtend.feature_selection import SequentialFeatureSelector as SFS\n",
    "# from sklearn.linear_model import LinearRegression\n",
    "# from sklearn.tree import DecisionTreeRegressor\n",
    "# from sklearn.metrics import mean_absolute_error, mean_squared_error\n",
    "\n",
    "# # Floating SFS: k_features='best' lets it decide how many features to keep\n",
    "# from sklearn.metrics import mean_absolute_error, mean_squared_error, r2_score\n",
    "\n",
    "# # Floating SFS\n",
    "# sfs = SFS(\n",
    "#     estimator=LinearRegression(),\n",
    "#     k_features='best',\n",
    "#     forward=True,\n",
    "#     floating=True,\n",
    "#     scoring='neg_mean_squared_error',\n",
    "#     cv=5,\n",
    "#     n_jobs=-1\n",
    "# )\n",
    "# sfs = sfs.fit(X_train_no_cat.values, y_train.values)\n",
    "\n",
    "# feat_idx = list(sfs.k_feature_idx_)\n",
    "# feat_names = X_train_no_cat.columns[feat_idx]\n",
    "# print(\"Best #features:\", len(feat_idx))\n",
    "# print(\"Selected features:\", feat_names)\n",
    "\n",
    "# # Transform and evaluate\n",
    "# X_tr = sfs.transform(X_train_no_cat.values)\n",
    "# X_te = sfs.transform(X_test_no_cat.values)\n",
    "\n",
    "# for Model in (LinearRegression, DecisionTreeRegressor):\n",
    "#     m = Model().fit(X_tr, y_train)\n",
    "#     pred = m.predict(X_te)\n",
    "#     mae = mean_absolute_error(y_test, pred)\n",
    "#     mse = mean_squared_error(y_test, pred)\n",
    "#     r2 = r2_score(y_test, pred)\n",
    "#     print(f\"{Model.__name__} — MAE: {mae:.2f}, MSE: {mse:.2f}, R²: {r2:.2f}\")\n"
   ]
  },
  {
   "cell_type": "markdown",
   "metadata": {},
   "source": [
    "--> Some of our added features were selected as relevant !!!"
   ]
  },
  {
   "cell_type": "markdown",
   "metadata": {},
   "source": [
    "The output shows, that our newly added features where selected by the Linear Model, and therefore are relevant for prediction."
   ]
  }
 ],
 "metadata": {
  "colab": {
   "authorship_tag": "ABX9TyNuQhF7c3XUyMDUkg0Jcqd0",
   "provenance": []
  },
  "kernelspec": {
   "display_name": ".venv",
   "language": "python",
   "name": "python3"
  },
  "language_info": {
   "codemirror_mode": {
    "name": "ipython",
    "version": 3
   },
   "file_extension": ".py",
   "mimetype": "text/x-python",
   "name": "python",
   "nbconvert_exporter": "python",
   "pygments_lexer": "ipython3",
   "version": "3.13.3"
  }
 },
 "nbformat": 4,
 "nbformat_minor": 0
}
