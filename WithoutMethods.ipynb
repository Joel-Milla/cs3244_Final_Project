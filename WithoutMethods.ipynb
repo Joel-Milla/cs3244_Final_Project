{
 "cells": [
  {
   "cell_type": "code",
   "execution_count": 16,
   "id": "d1889baa",
   "metadata": {},
   "outputs": [],
   "source": [
    "import pandas as pd\n",
    "import numpy as np\n",
    "import matplotlib.pyplot as plt\n",
    "import seaborn as sns\n",
    "from scipy import stats\n",
    "#to ignore warnings\n",
    "import warnings\n",
    "warnings.filterwarnings('ignore')"
   ]
  },
  {
   "cell_type": "code",
   "execution_count": 17,
   "id": "2d50166a",
   "metadata": {},
   "outputs": [],
   "source": [
    "data = pd.read_csv(\"Features_Variant_1.csv\", header=None)"
   ]
  },
  {
   "cell_type": "code",
   "execution_count": 18,
   "id": "8866b1af",
   "metadata": {},
   "outputs": [],
   "source": [
    "column_names_updated = [\n",
    "    \"Page_Popularity_Likes\", \"Page_Checkins\", \"Page_Talking_About\", \"Page_Category\",\n",
    "    \"Derived_1\", \"Derived_2\", \"Derived_3\", \"Derived_4\", \"Derived_5\",\n",
    "    \"Derived_6\", \"Derived_7\", \"Derived_8\", \"Derived_9\", \"Derived_10\",\n",
    "    \"Derived_11\", \"Derived_12\", \"Derived_13\", \"Derived_14\", \"Derived_15\",\n",
    "    \"Derived_16\", \"Derived_17\", \"Derived_18\", \"Derived_19\", \"Derived_20\",\n",
    "    \"Derived_21\", \"Derived_22\", \"Derived_23\", \"Derived_24\", \"Derived_25\",\n",
    "    \"CC1_Total_Comments\", \"CC2_Comments_Last_24h\", \"CC3_Comments_48_to_24h\",\n",
    "    \"CC4_Comments_First_24h\", \"CC5_CC2_CC3_Difference\", \"Base_Time\",\n",
    "    \"Post_Length\", \"Post_Share_Count\", \"Post_Promotion_Status\", \"H_Local\",\n",
    "    \"Published_Sunday\", \"Published_Monday\", \"Published_Tuesday\",\n",
    "    \"Published_Wednesday\", \"Published_Thursday\", \"Published_Friday\",\n",
    "    \"Published_Saturday\", \"BaseDate_Sunday\", \"BaseDate_Monday\",\n",
    "    \"BaseDate_Tuesday\", \"BaseDate_Wednesday\", \"BaseDate_Thursday\",\n",
    "    \"BaseDate_Friday\", \"BaseDate_Saturday\", \"Target_Comment_Volume\"\n",
    "]\n",
    "\n",
    "data.columns = column_names_updated"
   ]
  },
  {
   "cell_type": "code",
   "execution_count": 19,
   "id": "e259da4e",
   "metadata": {},
   "outputs": [],
   "source": [
    "# Drop Post Promotion Status always 0\n",
    "data = data.drop(\"Post_Promotion_Status\", axis=1)\n",
    "data = data.drop(\"CC1_Total_Comments\", axis=1)"
   ]
  },
  {
   "cell_type": "code",
   "execution_count": 20,
   "id": "619d2a8d",
   "metadata": {},
   "outputs": [],
   "source": [
    "published_day_mapping = {\n",
    "    \"Published_Sunday\": \"Sunday\",\n",
    "    \"Published_Monday\": \"Monday\",\n",
    "    \"Published_Tuesday\": \"Tuesday\",\n",
    "    \"Published_Wednesday\": \"Wednesday\",\n",
    "    \"Published_Thursday\": \"Thursday\",\n",
    "    \"Published_Friday\": \"Friday\",\n",
    "    \"Published_Saturday\": \"Saturday\"\n",
    "}\n",
    "\n",
    "basedate_day_mapping = {\n",
    "    \"BaseDate_Sunday\": \"Sunday\",\n",
    "    \"BaseDate_Monday\": \"Monday\",\n",
    "    \"BaseDate_Tuesday\": \"Tuesday\",\n",
    "    \"BaseDate_Wednesday\": \"Wednesday\",\n",
    "    \"BaseDate_Thursday\": \"Thursday\",\n",
    "    \"BaseDate_Friday\": \"Friday\",\n",
    "    \"BaseDate_Saturday\": \"Saturday\"\n",
    "}\n",
    "\n",
    "data['Published_Day'] = data[[*published_day_mapping.keys()]].idxmax(axis=1).map(published_day_mapping)\n",
    "data['BaseDate_Day'] = data[[*basedate_day_mapping.keys()]].idxmax(axis=1).map(basedate_day_mapping)\n",
    "data.drop(columns=list(published_day_mapping.keys()) + list(basedate_day_mapping.keys()), inplace=True)\n",
    "\n",
    "# I think cyclic encoding is more efficient way than one-hot encoding\n",
    "def encode_day(day_name):\n",
    "    day_map = {\n",
    "        'Monday': 0, 'Tuesday': 1, 'Wednesday': 2,\n",
    "        'Thursday': 3, 'Friday': 4, 'Saturday': 5, 'Sunday': 6\n",
    "    }\n",
    "    day_idx = day_map.get(day_name, None)\n",
    "    return (\n",
    "        np.sin(2 * np.pi * day_idx / 7),\n",
    "        np.cos(2 * np.pi * day_idx / 7)\n",
    "    ) \n",
    "\n",
    "for col in ['Published_Day', 'BaseDate_Day']:\n",
    "    data[[f\"{col}_Sin\", f\"{col}_Cos\"]] = pd.DataFrame(\n",
    "        data[col].apply(encode_day).tolist(),\n",
    "        index=data.index\n",
    "    )\n",
    "\n",
    "data.drop(['Published_Day', 'BaseDate_Day'], axis=1, inplace=True)"
   ]
  },
  {
   "cell_type": "code",
   "execution_count": 21,
   "id": "ad735c5f",
   "metadata": {},
   "outputs": [],
   "source": [
    "# This column calculates the average number of comments per hour in the last 24 hours before the Base Time\n",
    "data['Average_Comment_Last24h'] = (\n",
    "    data['CC2_Comments_Last_24h'] / \n",
    "    np.maximum(np.minimum(data['Base_Time'], 24), 1) \n",
    ")"
   ]
  },
  {
   "cell_type": "code",
   "execution_count": 22,
   "id": "c5e54ed7",
   "metadata": {},
   "outputs": [],
   "source": [
    "data.to_pickle('raw_features.pkl')"
   ]
  }
 ],
 "metadata": {
  "kernelspec": {
   "display_name": "base",
   "language": "python",
   "name": "python3"
  },
  "language_info": {
   "codemirror_mode": {
    "name": "ipython",
    "version": 3
   },
   "file_extension": ".py",
   "mimetype": "text/x-python",
   "name": "python",
   "nbconvert_exporter": "python",
   "pygments_lexer": "ipython3",
   "version": "3.12.2"
  }
 },
 "nbformat": 4,
 "nbformat_minor": 5
}
