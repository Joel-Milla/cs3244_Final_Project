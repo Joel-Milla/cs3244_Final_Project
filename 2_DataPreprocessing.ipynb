{
 "cells": [
  {
   "cell_type": "code",
   "execution_count": 12,
   "id": "d1889baa",
   "metadata": {},
   "outputs": [],
   "source": [
    "import pandas as pd\n",
    "import numpy as np\n",
    "import matplotlib.pyplot as plt\n",
    "import seaborn as sns\n",
    "from scipy import stats\n",
    "#to ignore warnings\n",
    "import warnings\n",
    "warnings.filterwarnings('ignore')"
   ]
  },
  {
   "cell_type": "code",
   "execution_count": 13,
   "id": "2d50166a",
   "metadata": {},
   "outputs": [],
   "source": [
    "data = pd.read_csv(\"Dataset/Training/Features_Variant_1.csv\", header=None)"
   ]
  },
  {
   "cell_type": "markdown",
   "id": "a0d3e763",
   "metadata": {},
   "source": [
    "The original dataset did not contain column headers. We manually assigned meaningful column names based on the dataset's structure and feature definitions."
   ]
  },
  {
   "cell_type": "code",
   "execution_count": 14,
   "id": "8866b1af",
   "metadata": {},
   "outputs": [],
   "source": [
    "column_names_updated = [\n",
    "    \"Page_Popularity_Likes\", \"Page_Checkins\", \"Page_Talking_About\", \"Page_Category\",\n",
    "    \"Derived_1\", \"Derived_2\", \"Derived_3\", \"Derived_4\", \"Derived_5\",\n",
    "    \"Derived_6\", \"Derived_7\", \"Derived_8\", \"Derived_9\", \"Derived_10\",\n",
    "    \"Derived_11\", \"Derived_12\", \"Derived_13\", \"Derived_14\", \"Derived_15\",\n",
    "    \"Derived_16\", \"Derived_17\", \"Derived_18\", \"Derived_19\", \"Derived_20\",\n",
    "    \"Derived_21\", \"Derived_22\", \"Derived_23\", \"Derived_24\", \"Derived_25\",\n",
    "    \"CC1_Total_Comments\", \"CC2_Comments_Last_24h\", \"CC3_Comments_48_to_24h\",\n",
    "    \"CC4_Comments_First_24h\", \"CC5_CC2_CC3_Difference\", \"Base_Time\",\n",
    "    \"Post_Length\", \"Post_Share_Count\", \"Post_Promotion_Status\", \"H_Local\",\n",
    "    \"Published_Sunday\", \"Published_Monday\", \"Published_Tuesday\",\n",
    "    \"Published_Wednesday\", \"Published_Thursday\", \"Published_Friday\",\n",
    "    \"Published_Saturday\", \"BaseDate_Sunday\", \"BaseDate_Monday\",\n",
    "    \"BaseDate_Tuesday\", \"BaseDate_Wednesday\", \"BaseDate_Thursday\",\n",
    "    \"BaseDate_Friday\", \"BaseDate_Saturday\", \"Target_Comment_Volume\"\n",
    "]\n",
    "\n",
    "data.columns = column_names_updated"
   ]
  },
  {
   "cell_type": "markdown",
   "id": "eb73f655",
   "metadata": {},
   "source": [
    "Map page category IDs to readable labels, then one-hot encode the column for modeling.\n"
   ]
  },
  {
   "cell_type": "code",
   "execution_count": 15,
   "id": "e55508b8",
   "metadata": {},
   "outputs": [],
   "source": [
    "category_mapping = {\n",
    "    1: \"Product/service\", 2: \"Public figure\", 3: \"Retail and consumer merchandise\",\n",
    "    4: \"Athlete\", 5: \"Education website\", 6: \"Arts/entertainment/nightlife\",\n",
    "    7: \"Aerospace/defense\", 8: \"Actor/director\", 9: \"Professional sports team\",\n",
    "    10: \"Travel/leisure\", 11: \"Arts/humanities website\", 12: \"Food/beverages\",\n",
    "    13: \"Record label\", 14: \"Movie\", 15: \"Song\", 16: \"Community\",\n",
    "    17: \"Company\", 18: \"Artist\", 19: \"Non-governmental organization (NGO)\",\n",
    "    20: \"Media/news/publishing\", 21: \"Cars\", 22: \"Clothing\", 23: \"Local business\",\n",
    "    24: \"Musician/band\", 25: \"Politician\", 26: \"News/media website\",\n",
    "    27: \"Education\", 28: \"Author\", 29: \"Sports event\", 30: \"Restaurant/cafe\",\n",
    "    31: \"School sports team\", 32: \"University\", 33: \"TV show\",\n",
    "    34: \"Website\", 35: \"Outdoor gear/sporting goods\", 36: \"Political party\",\n",
    "    37: \"Sports league\", 38: \"Entertainer\", 39: \"Church/religious organization\",\n",
    "    40: \"Non-profit organization\", 41: \"Automobiles and parts\", 42: \"TV channel\",\n",
    "    43: \"Telecommunication\", 44: \"Entertainment website\", 45: \"Shopping/retail\",\n",
    "    46: \"Personal blog\", 47: \"App page\", 48: \"Vitamins/supplements\",\n",
    "    49: \"Professional services\", 50: \"Movie theater\", 51: \"Software\",\n",
    "    52: \"Magazine\", 53: \"Electronics\", 54: \"School\", 55: \"Just for fun\",\n",
    "    56: \"Club\", 57: \"Comedian\", 58: \"Sports venue\", 59: \"Sports/recreation/activities\",\n",
    "    60: \"Publisher\", 61: \"TV network\", 62: \"Health/medical/pharmacy\",\n",
    "    63: \"Studio\", 64: \"Home decor\", 65: \"Jewelry/watches\", 66: \"Writer\",\n",
    "    67: \"Health/beauty\", 68: \"Music video\", 69: \"Appliances\", 70: \"Computers/technology\",\n",
    "    71: \"Insurance company\", 72: \"Music award\", 73: \"Recreation/sports website\",\n",
    "    74: \"Reference website\", 75: \"Business/economy website\", 76: \"Bar\",\n",
    "    77: \"Album\", 78: \"Games/toys\", 79: \"Camera/photo\", 80: \"Book\",\n",
    "    81: \"Producer\", 82: \"Landmark\", 83: \"Cause\", 84: \"Organization\",\n",
    "    85: \"TV/movie award\", 86: \"Hotel\", 87: \"Health/medical/pharmaceuticals\",\n",
    "    88: \"Transportation\", 89: \"Local/travel website\", 90: \"Musical instrument\",\n",
    "    91: \"Radio station\", 92: \"Other\", 93: \"Computers\", 94: \"Phone/tablet\",\n",
    "    95: \"Coach\", 96: \"Tools/equipment\", 97: \"Internet/software\",\n",
    "    98: \"Bank/financial institution\", 99: \"Society/culture website\",\n",
    "    100: \"Small business\", 101: \"News personality\", 102: \"Teens/kids website\",\n",
    "    103: \"Government official\", 104: \"Photographer\", 105: \"Spas/beauty/personal care\",\n",
    "    106: \"Video game\"\n",
    "}\n",
    "\n",
    "data[\"Page_Category\"] = data[\"Page_Category\"].map(category_mapping)\n",
    "data = pd.get_dummies(data, columns=['Page_Category'], drop_first=True)"
   ]
  },
  {
   "cell_type": "markdown",
   "id": "a61f83d9",
   "metadata": {},
   "source": [
    "Drop 'Post Promotion Status' since it is always 0\n"
   ]
  },
  {
   "cell_type": "code",
   "execution_count": 16,
   "id": "e259da4e",
   "metadata": {},
   "outputs": [],
   "source": [
    "data = data.drop(\"Post_Promotion_Status\", axis=1)"
   ]
  },
  {
   "cell_type": "markdown",
   "id": "c7a157ba",
   "metadata": {},
   "source": [
    "We replaced one-hot encoding for the day of the week (both Published_Day and BaseDate_Day) with cyclical encoding using sine and cosine transformations. This approach is more efficient and captures the natural periodicity of the days — for example, it correctly treats Sunday and Monday as being next to each other. Unlike one-hot encoding, cyclical encoding maintains the relative distance and circular continuity between days of the week, which can lead to better performance in models that assume numeric relationships between features."
   ]
  },
  {
   "cell_type": "code",
   "execution_count": 17,
   "id": "619d2a8d",
   "metadata": {},
   "outputs": [],
   "source": [
    "published_day_mapping = {\n",
    "    \"Published_Sunday\": \"Sunday\",\n",
    "    \"Published_Monday\": \"Monday\",\n",
    "    \"Published_Tuesday\": \"Tuesday\",\n",
    "    \"Published_Wednesday\": \"Wednesday\",\n",
    "    \"Published_Thursday\": \"Thursday\",\n",
    "    \"Published_Friday\": \"Friday\",\n",
    "    \"Published_Saturday\": \"Saturday\"\n",
    "}\n",
    "\n",
    "basedate_day_mapping = {\n",
    "    \"BaseDate_Sunday\": \"Sunday\",\n",
    "    \"BaseDate_Monday\": \"Monday\",\n",
    "    \"BaseDate_Tuesday\": \"Tuesday\",\n",
    "    \"BaseDate_Wednesday\": \"Wednesday\",\n",
    "    \"BaseDate_Thursday\": \"Thursday\",\n",
    "    \"BaseDate_Friday\": \"Friday\",\n",
    "    \"BaseDate_Saturday\": \"Saturday\"\n",
    "}\n",
    "\n",
    "data['Published_Day'] = data[[*published_day_mapping.keys()]].idxmax(axis=1).map(published_day_mapping)\n",
    "data['BaseDate_Day'] = data[[*basedate_day_mapping.keys()]].idxmax(axis=1).map(basedate_day_mapping)\n",
    "data.drop(columns=list(published_day_mapping.keys()) + list(basedate_day_mapping.keys()), inplace=True)\n",
    "\n",
    "# I think cyclic encoding is more efficient way than one-hot encoding\n",
    "def encode_day(day_name):\n",
    "    day_map = {\n",
    "        'Monday': 0, 'Tuesday': 1, 'Wednesday': 2,\n",
    "        'Thursday': 3, 'Friday': 4, 'Saturday': 5, 'Sunday': 6\n",
    "    }\n",
    "    day_idx = day_map.get(day_name, None)\n",
    "    return (\n",
    "        np.sin(2 * np.pi * day_idx / 7),\n",
    "        np.cos(2 * np.pi * day_idx / 7)\n",
    "    ) \n",
    "\n",
    "for col in ['Published_Day', 'BaseDate_Day']:\n",
    "    data[[f\"{col}_Sin\", f\"{col}_Cos\"]] = pd.DataFrame(\n",
    "        data[col].apply(encode_day).tolist(),\n",
    "        index=data.index\n",
    "    )\n",
    "\n",
    "data.drop(['Published_Day', 'BaseDate_Day'], axis=1, inplace=True)"
   ]
  },
  {
   "cell_type": "code",
   "execution_count": 18,
   "id": "87672504",
   "metadata": {},
   "outputs": [],
   "source": [
    "data.to_csv(\"Preprocessed_Data.csv\", index=False)"
   ]
  }
 ],
 "metadata": {
  "kernelspec": {
   "display_name": "base",
   "language": "python",
   "name": "python3"
  },
  "language_info": {
   "codemirror_mode": {
    "name": "ipython",
    "version": 3
   },
   "file_extension": ".py",
   "mimetype": "text/x-python",
   "name": "python",
   "nbconvert_exporter": "python",
   "pygments_lexer": "ipython3",
   "version": "3.12.2"
  }
 },
 "nbformat": 4,
 "nbformat_minor": 5
}
